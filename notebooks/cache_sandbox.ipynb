{
 "cells": [
  {
   "cell_type": "code",
   "execution_count": 23,
   "id": "21b5a48f-f3ad-47de-aebd-03438b86b863",
   "metadata": {},
   "outputs": [
    {
     "name": "stdout",
     "output_type": "stream",
     "text": [
      "The autoreload extension is already loaded. To reload it, use:\n",
      "  %reload_ext autoreload\n"
     ]
    }
   ],
   "source": [
    "%load_ext autoreload\n",
    "%autoreload 2\n",
    "\n",
    "import os\n",
    "import cache_utils\n",
    "import util\n",
    "import pandas as pd\n"
   ]
  },
  {
   "cell_type": "code",
   "execution_count": 24,
   "id": "c1e7653f-35f2-4037-88e6-cc66b9f2eb9a",
   "metadata": {},
   "outputs": [
    {
     "name": "stdout",
     "output_type": "stream",
     "text": [
      "False\n"
     ]
    }
   ],
   "source": [
    "a = cache_utils.make_hash_field(\"hi\", {\"1\":\"kdjlaf\", \"2\":\"dkafljd\"})\n",
    "b = cache_utils.make_hash_field(\"hi\", {\"1\":\"kdjlaf\", \"3\":\"dkafljd\"})\n",
    "\n",
    "print(a==b)"
   ]
  },
  {
   "cell_type": "code",
   "execution_count": 25,
   "id": "07f2069f-4a56-4c72-be8e-4e17e33891e6",
   "metadata": {},
   "outputs": [],
   "source": [
    "control = util.get_control_dict()\n",
    "\n",
    "ex_notebook = control['compute_notebooks']['POP_MOC_extract_cat']\n",
    "\n",
    "#ex_notebook = control['compute_notebooks']['ssh']"
   ]
  },
  {
   "cell_type": "code",
   "execution_count": 41,
   "id": "4c92c67f-f447-443f-9fe1-aed9bf4e6594",
   "metadata": {},
   "outputs": [
    {
     "data": {
      "text/plain": [
       "{'diagnostic_path': '/glade/u/home/eromashkova/codes/my-cesm-experiment-extended/notebooks/POP_MOC_extract_cat.ipynb',\n",
       " 'catalog_path': '/glade/u/home/eromashkova/codes/diag-sandbox/catalog/gcp-cases.json',\n",
       " 'parameters': {'none': {'casename': 'gcp-cases'}},\n",
       " 'catalog_last_updated': 'Fri Oct 14 15:53:25 2022',\n",
       " 'diagnostic_last_updated': 'Tue Jan 31 00:35:07 2023',\n",
       " 'subset': {'case': ['g.e22.GOMIPECOIAF_JRA-1p4-2018.TL319_g17.GCB_2022.BCRC'],\n",
       "  'frequency': 'month_1',\n",
       "  'component': 'ocn',\n",
       "  'variable': 'MOC'},\n",
       " 'hash': '38e8e3d0311c9c542bbb11be8453a95f9a58f70f829564414de2a5f9182d8a6b',\n",
       " 'assets': 'No assets',\n",
       " 'time_executed': 'Tue Jan 31 10:58:08 2023',\n",
       " 'yml_path': '/glade/u/home/eromashkova/codes/my-cesm-experiment-extended/notebooks/cache_metadata/gcp-cases_POP_MOC_extract_cat_4.yml'}"
      ]
     },
     "execution_count": 41,
     "metadata": {},
     "output_type": "execute_result"
    }
   ],
   "source": [
    "\n",
    "test_cache_path1 = \"/glade/u/home/eromashkova/codes/my-cesm-experiment-extended/notebooks/cache_metadata\"\n",
    "test_diag_path1 = os.getcwd() + '/' + 'POP_MOC_extract_cat.ipynb'\n",
    "test_cat_path1 = control['data_sources']['path_to_cat_json']\n",
    "\n",
    "test_firstsubset = control['data_sources']['subset']\n",
    "test_secondsubset = ex_notebook['subset']\n",
    "\n",
    "test_params = ex_notebook['parameter_groups']\n",
    "\n",
    "## make_sidecar_entry assumes that a new one needs to be made\n",
    "\n",
    "cache_utils.make_sidecar_entry(test_cache_path1, test_diag_path1, \n",
    "                               test_cat_path1, first_subset=test_firstsubset, \n",
    "                               second_subset=test_secondsubset,\n",
    "                               params=test_params)"
   ]
  },
  {
   "cell_type": "code",
   "execution_count": 42,
   "id": "ff549681-62c8-46c4-bd68-c2a8b3c4f999",
   "metadata": {},
   "outputs": [],
   "source": [
    "df = cache_utils.make_all_yamls_into_df(test_cache_path1)"
   ]
  },
  {
   "cell_type": "code",
   "execution_count": 37,
   "id": "28b0f262-19a7-4df7-aafa-1b5430b779f0",
   "metadata": {},
   "outputs": [
    {
     "data": {
      "text/html": [
       "<div>\n",
       "<style scoped>\n",
       "    .dataframe tbody tr th:only-of-type {\n",
       "        vertical-align: middle;\n",
       "    }\n",
       "\n",
       "    .dataframe tbody tr th {\n",
       "        vertical-align: top;\n",
       "    }\n",
       "\n",
       "    .dataframe thead th {\n",
       "        text-align: right;\n",
       "    }\n",
       "</style>\n",
       "<table border=\"1\" class=\"dataframe\">\n",
       "  <thead>\n",
       "    <tr style=\"text-align: right;\">\n",
       "      <th></th>\n",
       "      <th>assets</th>\n",
       "      <th>catalog_last_updated</th>\n",
       "      <th>catalog_path</th>\n",
       "      <th>diagnostic_last_updated</th>\n",
       "      <th>diagnostic_path</th>\n",
       "      <th>hash</th>\n",
       "      <th>parameters</th>\n",
       "      <th>subset</th>\n",
       "      <th>time_executed</th>\n",
       "      <th>yml_path</th>\n",
       "    </tr>\n",
       "  </thead>\n",
       "  <tbody>\n",
       "    <tr>\n",
       "      <th>0</th>\n",
       "      <td>None</td>\n",
       "      <td>Fri Oct 14 15:53:25 2022</td>\n",
       "      <td>/glade/u/home/eromashkova/codes/diag-sandbox/catalog/gcp-cases.json</td>\n",
       "      <td>Tue Jan 31 00:35:07 2023</td>\n",
       "      <td>/glade/u/home/eromashkova/codes/my-cesm-experiment-extended/notebooks/POP_MOC_extract_cat.ipynb</td>\n",
       "      <td>38e8e3d0311c9c542bbb11be8453a95f9a58f70f829564414de2a5f9182d8a6b</td>\n",
       "      <td>{'none': {'casename': 'gcp-cases'}}</td>\n",
       "      <td>{'case': ['g.e22.GOMIPECOIAF_JRA-1p4-2018.TL319_g17.GCB_2022.BCRC'], 'component': 'ocn', 'frequency': 'month_1', 'variable': 'MOC'}</td>\n",
       "      <td>Tue Jan 31 09:24:54 2023</td>\n",
       "      <td>/glade/u/home/eromashkova/codes/my-cesm-experiment-extended/notebooks/cache_metadata/gcp-cases_POP_MOC_extract_cat_1.yml</td>\n",
       "    </tr>\n",
       "    <tr>\n",
       "      <th>0</th>\n",
       "      <td>/glade/u/home/eromashkova/codes/my-cesm-experiment-extended/notebooks/cache_data/gcp-cases_POP_MOC_extract_cat_3.nc</td>\n",
       "      <td>Fri Oct 14 15:53:25 2022</td>\n",
       "      <td>/glade/u/home/eromashkova/codes/diag-sandbox/catalog/gcp-cases.json</td>\n",
       "      <td>Tue Jan 31 00:35:07 2023</td>\n",
       "      <td>POP_MOC_extract_cat.ipynb</td>\n",
       "      <td>0843dd943931ceb494e6b043a9c199561a47b4a08c6bf49e4bb63b3f5e957d32</td>\n",
       "      <td>{'casename': 'gcp-cases'}</td>\n",
       "      <td>{'case': ['g.e22.GOMIPECOIAF_JRA-1p4-2018.TL319_g17.GCB_2022.BCRC'], 'component': 'ocn', 'frequency': 'month_1', 'variable': 'MOC'}</td>\n",
       "      <td>Tue Jan 31 00:53:18 2023</td>\n",
       "      <td>/glade/u/home/eromashkova/codes/my-cesm-experiment-extended/notebooks/cache_metadata/gcp-cases_POP_MOC_extract_cat_0.yml</td>\n",
       "    </tr>\n",
       "    <tr>\n",
       "      <th>0</th>\n",
       "      <td>None</td>\n",
       "      <td>Fri Oct 14 15:53:25 2022</td>\n",
       "      <td>/glade/u/home/eromashkova/codes/diag-sandbox/catalog/gcp-cases.json</td>\n",
       "      <td>Tue Jan 31 00:35:07 2023</td>\n",
       "      <td>/glade/u/home/eromashkova/codes/my-cesm-experiment-extended/notebooks/POP_MOC_extract_cat.ipynb</td>\n",
       "      <td>38e8e3d0311c9c542bbb11be8453a95f9a58f70f829564414de2a5f9182d8a6b</td>\n",
       "      <td>{'none': {'casename': 'gcp-cases'}}</td>\n",
       "      <td>{'case': ['g.e22.GOMIPECOIAF_JRA-1p4-2018.TL319_g17.GCB_2022.BCRC'], 'component': 'ocn', 'frequency': 'month_1', 'variable': 'MOC'}</td>\n",
       "      <td>Tue Jan 31 10:50:41 2023</td>\n",
       "      <td>/glade/u/home/eromashkova/codes/my-cesm-experiment-extended/notebooks/cache_metadata/gcp-cases_POP_MOC_extract_cat_2.yml</td>\n",
       "    </tr>\n",
       "    <tr>\n",
       "      <th>0</th>\n",
       "      <td>not none string</td>\n",
       "      <td>Fri Oct 14 15:53:25 2022</td>\n",
       "      <td>/glade/u/home/eromashkova/codes/diag-sandbox/catalog/gcp-cases.json</td>\n",
       "      <td>Tue Jan 31 00:35:07 2023</td>\n",
       "      <td>/glade/u/home/eromashkova/codes/my-cesm-experiment-extended/notebooks/POP_MOC_extract_cat.ipynb</td>\n",
       "      <td>38e8e3d0311c9c542bbb11be8453a95f9a58f70f829564414de2a5f9182d8a6b</td>\n",
       "      <td>{'none': {'casename': 'gcp-cases'}}</td>\n",
       "      <td>{'case': ['g.e22.GOMIPECOIAF_JRA-1p4-2018.TL319_g17.GCB_2022.BCRC'], 'component': 'ocn', 'frequency': 'month_1', 'variable': 'MOC'}</td>\n",
       "      <td>Tue Jan 31 10:53:43 2023</td>\n",
       "      <td>/glade/u/home/eromashkova/codes/my-cesm-experiment-extended/notebooks/cache_metadata/gcp-cases_POP_MOC_extract_cat_3.yml</td>\n",
       "    </tr>\n",
       "  </tbody>\n",
       "</table>\n",
       "</div>"
      ],
      "text/plain": [
       "                                                                                                                assets  \\\n",
       "0                                                                                                                 None   \n",
       "0  /glade/u/home/eromashkova/codes/my-cesm-experiment-extended/notebooks/cache_data/gcp-cases_POP_MOC_extract_cat_3.nc   \n",
       "0                                                                                                                 None   \n",
       "0                                                                                                      not none string   \n",
       "\n",
       "       catalog_last_updated  \\\n",
       "0  Fri Oct 14 15:53:25 2022   \n",
       "0  Fri Oct 14 15:53:25 2022   \n",
       "0  Fri Oct 14 15:53:25 2022   \n",
       "0  Fri Oct 14 15:53:25 2022   \n",
       "\n",
       "                                                          catalog_path  \\\n",
       "0  /glade/u/home/eromashkova/codes/diag-sandbox/catalog/gcp-cases.json   \n",
       "0  /glade/u/home/eromashkova/codes/diag-sandbox/catalog/gcp-cases.json   \n",
       "0  /glade/u/home/eromashkova/codes/diag-sandbox/catalog/gcp-cases.json   \n",
       "0  /glade/u/home/eromashkova/codes/diag-sandbox/catalog/gcp-cases.json   \n",
       "\n",
       "    diagnostic_last_updated  \\\n",
       "0  Tue Jan 31 00:35:07 2023   \n",
       "0  Tue Jan 31 00:35:07 2023   \n",
       "0  Tue Jan 31 00:35:07 2023   \n",
       "0  Tue Jan 31 00:35:07 2023   \n",
       "\n",
       "                                                                                   diagnostic_path  \\\n",
       "0  /glade/u/home/eromashkova/codes/my-cesm-experiment-extended/notebooks/POP_MOC_extract_cat.ipynb   \n",
       "0                                                                        POP_MOC_extract_cat.ipynb   \n",
       "0  /glade/u/home/eromashkova/codes/my-cesm-experiment-extended/notebooks/POP_MOC_extract_cat.ipynb   \n",
       "0  /glade/u/home/eromashkova/codes/my-cesm-experiment-extended/notebooks/POP_MOC_extract_cat.ipynb   \n",
       "\n",
       "                                                               hash  \\\n",
       "0  38e8e3d0311c9c542bbb11be8453a95f9a58f70f829564414de2a5f9182d8a6b   \n",
       "0  0843dd943931ceb494e6b043a9c199561a47b4a08c6bf49e4bb63b3f5e957d32   \n",
       "0  38e8e3d0311c9c542bbb11be8453a95f9a58f70f829564414de2a5f9182d8a6b   \n",
       "0  38e8e3d0311c9c542bbb11be8453a95f9a58f70f829564414de2a5f9182d8a6b   \n",
       "\n",
       "                            parameters  \\\n",
       "0  {'none': {'casename': 'gcp-cases'}}   \n",
       "0            {'casename': 'gcp-cases'}   \n",
       "0  {'none': {'casename': 'gcp-cases'}}   \n",
       "0  {'none': {'casename': 'gcp-cases'}}   \n",
       "\n",
       "                                                                                                                                subset  \\\n",
       "0  {'case': ['g.e22.GOMIPECOIAF_JRA-1p4-2018.TL319_g17.GCB_2022.BCRC'], 'component': 'ocn', 'frequency': 'month_1', 'variable': 'MOC'}   \n",
       "0  {'case': ['g.e22.GOMIPECOIAF_JRA-1p4-2018.TL319_g17.GCB_2022.BCRC'], 'component': 'ocn', 'frequency': 'month_1', 'variable': 'MOC'}   \n",
       "0  {'case': ['g.e22.GOMIPECOIAF_JRA-1p4-2018.TL319_g17.GCB_2022.BCRC'], 'component': 'ocn', 'frequency': 'month_1', 'variable': 'MOC'}   \n",
       "0  {'case': ['g.e22.GOMIPECOIAF_JRA-1p4-2018.TL319_g17.GCB_2022.BCRC'], 'component': 'ocn', 'frequency': 'month_1', 'variable': 'MOC'}   \n",
       "\n",
       "              time_executed  \\\n",
       "0  Tue Jan 31 09:24:54 2023   \n",
       "0  Tue Jan 31 00:53:18 2023   \n",
       "0  Tue Jan 31 10:50:41 2023   \n",
       "0  Tue Jan 31 10:53:43 2023   \n",
       "\n",
       "                                                                                                                   yml_path  \n",
       "0  /glade/u/home/eromashkova/codes/my-cesm-experiment-extended/notebooks/cache_metadata/gcp-cases_POP_MOC_extract_cat_1.yml  \n",
       "0  /glade/u/home/eromashkova/codes/my-cesm-experiment-extended/notebooks/cache_metadata/gcp-cases_POP_MOC_extract_cat_0.yml  \n",
       "0  /glade/u/home/eromashkova/codes/my-cesm-experiment-extended/notebooks/cache_metadata/gcp-cases_POP_MOC_extract_cat_2.yml  \n",
       "0  /glade/u/home/eromashkova/codes/my-cesm-experiment-extended/notebooks/cache_metadata/gcp-cases_POP_MOC_extract_cat_3.yml  "
      ]
     },
     "execution_count": 37,
     "metadata": {},
     "output_type": "execute_result"
    }
   ],
   "source": [
    "# makes the columns not get truncated\n",
    "pd.set_option('display.max_colwidth', None)\n",
    "df\n",
    "### some of this metadata isn't self-consistent, just works to demonstrate the function"
   ]
  },
  {
   "cell_type": "code",
   "execution_count": 45,
   "id": "f4ae16c8-19bf-49ea-b875-8e1c31291348",
   "metadata": {},
   "outputs": [
    {
     "name": "stdout",
     "output_type": "stream",
     "text": [
      "            assets      catalog_last_updated  \\\n",
      "0  not none string  Fri Oct 14 15:53:25 2022   \n",
      "0        No assets  Fri Oct 14 15:53:25 2022   \n",
      "\n",
      "                                                          catalog_path  \\\n",
      "0  /glade/u/home/eromashkova/codes/diag-sandbox/catalog/gcp-cases.json   \n",
      "0  /glade/u/home/eromashkova/codes/diag-sandbox/catalog/gcp-cases.json   \n",
      "\n",
      "    diagnostic_last_updated  \\\n",
      "0  Tue Jan 31 00:35:07 2023   \n",
      "0  Tue Jan 31 00:35:07 2023   \n",
      "\n",
      "                                                                                   diagnostic_path  \\\n",
      "0  /glade/u/home/eromashkova/codes/my-cesm-experiment-extended/notebooks/POP_MOC_extract_cat.ipynb   \n",
      "0  /glade/u/home/eromashkova/codes/my-cesm-experiment-extended/notebooks/POP_MOC_extract_cat.ipynb   \n",
      "\n",
      "                                                               hash  \\\n",
      "0  38e8e3d0311c9c542bbb11be8453a95f9a58f70f829564414de2a5f9182d8a6b   \n",
      "0  38e8e3d0311c9c542bbb11be8453a95f9a58f70f829564414de2a5f9182d8a6b   \n",
      "\n",
      "                            parameters  \\\n",
      "0  {'none': {'casename': 'gcp-cases'}}   \n",
      "0  {'none': {'casename': 'gcp-cases'}}   \n",
      "\n",
      "                                                                                                                                subset  \\\n",
      "0  {'case': ['g.e22.GOMIPECOIAF_JRA-1p4-2018.TL319_g17.GCB_2022.BCRC'], 'component': 'ocn', 'frequency': 'month_1', 'variable': 'MOC'}   \n",
      "0  {'case': ['g.e22.GOMIPECOIAF_JRA-1p4-2018.TL319_g17.GCB_2022.BCRC'], 'component': 'ocn', 'frequency': 'month_1', 'variable': 'MOC'}   \n",
      "\n",
      "              time_executed  \\\n",
      "0  Tue Jan 31 10:53:43 2023   \n",
      "0  Tue Jan 31 10:58:08 2023   \n",
      "\n",
      "                                                                                                                   yml_path  \n",
      "0  /glade/u/home/eromashkova/codes/my-cesm-experiment-extended/notebooks/cache_metadata/gcp-cases_POP_MOC_extract_cat_3.yml  \n",
      "0  /glade/u/home/eromashkova/codes/my-cesm-experiment-extended/notebooks/cache_metadata/gcp-cases_POP_MOC_extract_cat_4.yml  \n"
     ]
    }
   ],
   "source": [
    "result_df = cache_utils.gen_df_query(test_cache_path1, test_diag_path1, \n",
    "                               test_cat_path1, test_firstsubset, test_secondsubset,\n",
    "                               test_params)\n",
    "\n",
    "### absolutely baffled by why this isn't working. will deal with it later\n",
    "print(result_df)"
   ]
  },
  {
   "cell_type": "code",
   "execution_count": 47,
   "id": "c41ec52d-ff02-4621-9491-441e1044056a",
   "metadata": {},
   "outputs": [],
   "source": [
    "# without a startdate, deletes all files in cache path\n",
    "# use with caution!\n",
    "# cache_utils.clean_cache(test_cache_path1)\n",
    "# cache_utils.clean_cache(\"/glade/u/home/eromashkova/codes/my-cesm-experiment-extended/notebooks/cache_data\")"
   ]
  }
 ],
 "metadata": {
  "kernelspec": {
   "display_name": "diag-sandbox",
   "language": "python",
   "name": "diag-sandbox"
  },
  "language_info": {
   "codemirror_mode": {
    "name": "ipython",
    "version": 3
   },
   "file_extension": ".py",
   "mimetype": "text/x-python",
   "name": "python",
   "nbconvert_exporter": "python",
   "pygments_lexer": "ipython3",
   "version": "3.9.13"
  }
 },
 "nbformat": 4,
 "nbformat_minor": 5
}
