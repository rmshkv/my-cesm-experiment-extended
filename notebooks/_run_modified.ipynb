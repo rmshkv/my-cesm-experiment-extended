{
 "cells": [
  {
   "cell_type": "markdown",
   "id": "77b2cc42-458e-4905-8756-37c6b93b711d",
   "metadata": {},
   "source": [
    "# Run notebooks"
   ]
  },
  {
   "cell_type": "code",
   "execution_count": 1,
   "id": "00bbf9f6-2eaf-4be7-81dc-fa143eb5f082",
   "metadata": {},
   "outputs": [],
   "source": [
    "%load_ext autoreload\n",
    "%autoreload 2"
   ]
  },
  {
   "cell_type": "code",
   "execution_count": 2,
   "id": "40a88a54-c7a7-44fc-b9ff-f931e42ac421",
   "metadata": {},
   "outputs": [],
   "source": [
    "import os\n",
    "from glob import glob\n",
    "\n",
    "import papermill as pm\n",
    "\n",
    "import util\n",
    "import data_access\n",
    "import intake\n",
    "import cache_utils"
   ]
  },
  {
   "cell_type": "markdown",
   "id": "7f4ce131-6c97-4027-9bfa-81ce9fb3750c",
   "metadata": {
    "tags": []
   },
   "source": [
    "## Get control structure"
   ]
  },
  {
   "cell_type": "code",
   "execution_count": 3,
   "id": "8d2c274e-a576-4f18-8a04-f24631c54508",
   "metadata": {},
   "outputs": [
    {
     "data": {
      "text/plain": [
       "{'data_sources': {'casename': 'gcp-cases',\n",
       "  'path_to_cat_json': '/glade/u/home/eromashkova/codes/diag-sandbox/catalog/gcp-cases.json',\n",
       "  'subset': {'case': ['g.e22.GOMIPECOIAF_JRA-1p4-2018.TL319_g17.GCB_2022.BCRC']},\n",
       "  'cache_metadata_path': '/glade/u/home/eromashkova/codes/my-cesm-experiment-extended/notebooks/cache_metadata',\n",
       "  'cache_data_path': '/glade/u/home/eromashkova/codes/my-cesm-experiment-extended/notebooks/cache_data'},\n",
       " 'output_root': './_computed-notebooks',\n",
       " 'project': 'NCGD0011',\n",
       " 'book_toc': {'format': 'jb-book',\n",
       "  'root': 'description',\n",
       "  'parts': [{'caption': 'Sea Surface Height', 'chapters': [{'file': 'ssh'}]},\n",
       "   {'caption': 'MOC', 'chapters': [{'glob': 'moc-view*'}]}]},\n",
       " 'book_config_keys': {'title': 'My CESM Experiment',\n",
       "  'repository': {'url': 'https://github.com/matt-long/my-cesm-experiment',\n",
       "   'path_to_book': 'notebooks',\n",
       "   'branch': 'main'}},\n",
       " 'compute_notebooks': {'description': {'use_cluster': False,\n",
       "   'parameter_groups': {'none': {'casename': 'gcp-cases'}},\n",
       "   'kernel_name': 'diag-sandbox'},\n",
       "  'ssh': {'use_cluster': True,\n",
       "   'subset': {'frequency': 'month_1', 'component': 'ocn', 'variable': 'SSH'},\n",
       "   'parameter_groups': {'none': {'casename': 'gcp-cases'}},\n",
       "   'kernel_name': 'diag-sandbox'},\n",
       "  'POP_MOC_extract_cat': {'use_cluster': True,\n",
       "   'kernel_name': 'diag-sandbox-moc-pop-tools',\n",
       "   'subset': {'frequency': 'month_1', 'component': 'ocn', 'variable': 'MOC'},\n",
       "   'parameter_groups': {'none': {'casename': 'gcp-cases'}}},\n",
       "  'moc-view': {'use_cluster': True,\n",
       "   'kernel_name': 'diag-sandbox-moc-pop-tools',\n",
       "   'dependency': 'POP_MOC_extract_cat',\n",
       "   'parameter_groups': {'26n': {'casename': 'gcp-cases',\n",
       "     'title_param': '26n'}}}},\n",
       " 'output_dir': './_computed-notebooks/gcp-cases'}"
      ]
     },
     "execution_count": 3,
     "metadata": {},
     "output_type": "execute_result"
    }
   ],
   "source": [
    "control = util.get_control_dict()\n",
    "control"
   ]
  },
  {
   "cell_type": "code",
   "execution_count": 4,
   "id": "8ed14b40-bcb0-4f53-93aa-d69e42afbf4b",
   "metadata": {},
   "outputs": [
    {
     "name": "stdout",
     "output_type": "stream",
     "text": [
      "['description.ipynb', 'ssh.ipynb', 'POP_MOC_extract_cat.ipynb', 'moc-view.ipynb']\n",
      "['ssh.ipynb']\n",
      "['ssh.ipynb']\n",
      "[]\n",
      "['ssh.ipynb']\n",
      "['description.ipynb', 'ssh.ipynb']\n",
      "copy files []\n"
     ]
    }
   ],
   "source": [
    "util.setup_book()"
   ]
  },
  {
   "cell_type": "markdown",
   "id": "db451493-80de-4dfc-90ea-71464e41273f",
   "metadata": {},
   "source": [
    "## Make a directory for temporary catalogs"
   ]
  },
  {
   "cell_type": "code",
   "execution_count": 5,
   "id": "3faa6e5a-ee0e-4284-b5da-ef21dadac7cc",
   "metadata": {},
   "outputs": [],
   "source": [
    "os.makedirs(\"temp_data\", exist_ok=True)"
   ]
  },
  {
   "cell_type": "markdown",
   "id": "86890966-42e8-4e7f-bd10-7ee6bdf1c8af",
   "metadata": {},
   "source": [
    "## Spin up a cluster\n",
    "\n",
    "The notebooks are configured to connect to this cluster."
   ]
  },
  {
   "cell_type": "code",
   "execution_count": 6,
   "id": "39493531-8a14-4948-ae1c-4658d5c20ab2",
   "metadata": {},
   "outputs": [
    {
     "name": "stderr",
     "output_type": "stream",
     "text": [
      "/glade/work/eromashkova/miniconda3/envs/diag-sandbox/lib/python3.9/site-packages/dask_jobqueue/pbs.py:82: FutureWarning: project has been renamed to account as this kwarg was used wit -A option. You are still using it (please also check config files). If you did not set account yet, project will be respected for now, but it will be removed in a future release. If you already set account, project is ignored and you can remove it.\n",
      "  warnings.warn(warn, FutureWarning)\n",
      "/glade/work/eromashkova/miniconda3/envs/diag-sandbox/lib/python3.9/site-packages/distributed/node.py:183: UserWarning: Port 8787 is already in use.\n",
      "Perhaps you already have a cluster running?\n",
      "Hosting the HTTP server on port 43624 instead\n",
      "  warnings.warn(\n",
      "/glade/work/eromashkova/miniconda3/envs/diag-sandbox/lib/python3.9/site-packages/dask_jobqueue/pbs.py:82: FutureWarning: project has been renamed to account as this kwarg was used wit -A option. You are still using it (please also check config files). If you did not set account yet, project will be respected for now, but it will be removed in a future release. If you already set account, project is ignored and you can remove it.\n",
      "  warnings.warn(warn, FutureWarning)\n"
     ]
    },
    {
     "data": {
      "text/html": [
       "<div class=\"jp-RenderedHTMLCommon jp-RenderedHTML jp-mod-trusted jp-OutputArea-output\">\n",
       "    <div style=\"width: 24px; height: 24px; background-color: #e1e1e1; border: 3px solid #9D9D9D; border-radius: 5px; position: absolute;\">\n",
       "    </div>\n",
       "    <div style=\"margin-left: 48px;\">\n",
       "        <h3 style=\"margin-bottom: 0px; margin-top: 0px;\">PBSCluster</h3>\n",
       "        <p style=\"color: #9D9D9D; margin-bottom: 0px;\">5cf5743d</p>\n",
       "        <table style=\"width: 100%; text-align: left;\">\n",
       "            <tr>\n",
       "                <td style=\"text-align: left;\">\n",
       "                    <strong>Dashboard:</strong> <a href=\"https://jupyterhub.hpc.ucar.edu/stable/user/eromashkova/proxy/43624/status\" target=\"_blank\">https://jupyterhub.hpc.ucar.edu/stable/user/eromashkova/proxy/43624/status</a>\n",
       "                </td>\n",
       "                <td style=\"text-align: left;\">\n",
       "                    <strong>Workers:</strong> 0\n",
       "                </td>\n",
       "            </tr>\n",
       "            <tr>\n",
       "                <td style=\"text-align: left;\">\n",
       "                    <strong>Total threads:</strong> 0\n",
       "                </td>\n",
       "                <td style=\"text-align: left;\">\n",
       "                    <strong>Total memory:</strong> 0 B\n",
       "                </td>\n",
       "            </tr>\n",
       "            \n",
       "        </table>\n",
       "\n",
       "        <details>\n",
       "            <summary style=\"margin-bottom: 20px;\">\n",
       "                <h3 style=\"display: inline;\">Scheduler Info</h3>\n",
       "            </summary>\n",
       "\n",
       "            <div style=\"\">\n",
       "    <div>\n",
       "        <div style=\"width: 24px; height: 24px; background-color: #FFF7E5; border: 3px solid #FF6132; border-radius: 5px; position: absolute;\"> </div>\n",
       "        <div style=\"margin-left: 48px;\">\n",
       "            <h3 style=\"margin-bottom: 0px;\">Scheduler</h3>\n",
       "            <p style=\"color: #9D9D9D; margin-bottom: 0px;\">Scheduler-9655d934-4a10-40bf-bfde-e7cba15fe2db</p>\n",
       "            <table style=\"width: 100%; text-align: left;\">\n",
       "                <tr>\n",
       "                    <td style=\"text-align: left;\">\n",
       "                        <strong>Comm:</strong> tcp://10.12.206.48:46273\n",
       "                    </td>\n",
       "                    <td style=\"text-align: left;\">\n",
       "                        <strong>Workers:</strong> 0\n",
       "                    </td>\n",
       "                </tr>\n",
       "                <tr>\n",
       "                    <td style=\"text-align: left;\">\n",
       "                        <strong>Dashboard:</strong> <a href=\"https://jupyterhub.hpc.ucar.edu/stable/user/eromashkova/proxy/43624/status\" target=\"_blank\">https://jupyterhub.hpc.ucar.edu/stable/user/eromashkova/proxy/43624/status</a>\n",
       "                    </td>\n",
       "                    <td style=\"text-align: left;\">\n",
       "                        <strong>Total threads:</strong> 0\n",
       "                    </td>\n",
       "                </tr>\n",
       "                <tr>\n",
       "                    <td style=\"text-align: left;\">\n",
       "                        <strong>Started:</strong> Just now\n",
       "                    </td>\n",
       "                    <td style=\"text-align: left;\">\n",
       "                        <strong>Total memory:</strong> 0 B\n",
       "                    </td>\n",
       "                </tr>\n",
       "            </table>\n",
       "        </div>\n",
       "    </div>\n",
       "\n",
       "    <details style=\"margin-left: 48px;\">\n",
       "        <summary style=\"margin-bottom: 20px;\">\n",
       "            <h3 style=\"display: inline;\">Workers</h3>\n",
       "        </summary>\n",
       "\n",
       "        \n",
       "\n",
       "    </details>\n",
       "</div>\n",
       "\n",
       "        </details>\n",
       "    </div>\n",
       "</div>"
      ],
      "text/plain": [
       "PBSCluster(5cf5743d, 'tcp://10.12.206.48:46273', workers=0, threads=0, memory=0 B)"
      ]
     },
     "metadata": {},
     "output_type": "display_data"
    }
   ],
   "source": [
    "cluster = util.get_Cluster(project=control['project'])\n",
    "cluster.scale(32)\n",
    "cluster"
   ]
  },
  {
   "cell_type": "markdown",
   "id": "cc0a4cb9-49a2-4844-a2ad-5247ad5cfa41",
   "metadata": {},
   "source": [
    "## Run all the notebooks"
   ]
  },
  {
   "cell_type": "code",
   "execution_count": 7,
   "id": "06ce5392-fd41-43ca-896b-93d192d32f27",
   "metadata": {},
   "outputs": [
    {
     "name": "stdout",
     "output_type": "stream",
     "text": [
      "Successfully wrote ESM catalog json file to: file:///glade/u/home/eromashkova/codes/my-cesm-experiment-extended/notebooks/temp_data/gcp-cases_subset.json\n"
     ]
    }
   ],
   "source": [
    "output_dir = control['output_dir']\n",
    "full_cat_path = control['data_sources']['path_to_cat_json']\n",
    "full_cat = intake.open_esm_datastore(full_cat_path)\n",
    "cache_metadata_path = control['data_sources']['cache_metadata_path']\n",
    "cache_data_path = control['data_sources']['cache_data_path']\n",
    "\n",
    "### doing initial subsetting on full catalog, e.g. to only use certain cases\n",
    "\n",
    "if 'subset' in control['data_sources']:\n",
    "    first_subset_kwargs = control['data_sources']['subset']\n",
    "    cat_subset = full_cat.search(**first_subset_kwargs)\n",
    "    ### this pulls out the name of the catalog from the path\n",
    "    cat_subset_name = full_cat_path.split(\"/\")[-1].split('.')[0] + \"_subset\"\n",
    "    cat_subset.serialize(directory=\"temp_data\", name=cat_subset_name, catalog_type=\"file\")\n",
    "    cat_path = os.getcwd() + \"/temp_data/\" + cat_subset_name + \".json\""
   ]
  },
  {
   "cell_type": "markdown",
   "id": "137c2447-d5c8-4eb2-b321-4b86b999077e",
   "metadata": {},
   "source": [
    "### Organizing notebook controls into three lists:"
   ]
  },
  {
   "cell_type": "code",
   "execution_count": 8,
   "id": "bed6ab2c-c9bc-4c8e-b12d-fe1a2dd18330",
   "metadata": {},
   "outputs": [],
   "source": [
    "precompute_nbs = dict()\n",
    "regular_nbs = dict()\n",
    "dependent_nbs = dict()\n",
    "\n",
    "for nb, info in control['compute_notebooks'].items():\n",
    "    if 'dependency' in info:\n",
    "        dependent_nbs[nb] = info\n",
    "        \n",
    "        called_nb = info['dependency']\n",
    "        \n",
    "        precompute_nbs[called_nb] = control['compute_notebooks'][called_nb]\n",
    "        precompute_nbs[called_nb][\"needed by\"] = list()\n",
    "        precompute_nbs[called_nb][\"needed by\"].append(nb)\n",
    "        \n",
    "    else:\n",
    "        regular_nbs[nb] = info\n",
    "\n",
    "### removing the precompute nbs that got added to regular_nbs\n",
    "\n",
    "for key, item in precompute_nbs.items():\n",
    "    if key in regular_nbs:\n",
    "        regular_nbs.pop(key)\n",
    "        \n",
    "        "
   ]
  },
  {
   "cell_type": "code",
   "execution_count": 9,
   "id": "f7d69575-af07-4653-869f-9be3de8944f4",
   "metadata": {},
   "outputs": [
    {
     "name": "stdout",
     "output_type": "stream",
     "text": [
      "{'POP_MOC_extract_cat': {'use_cluster': True, 'kernel_name': 'diag-sandbox-moc-pop-tools', 'subset': {'frequency': 'month_1', 'component': 'ocn', 'variable': 'MOC'}, 'parameter_groups': {'none': {'casename': 'gcp-cases'}}, 'needed by': ['moc-view']}}\n",
      "--\n",
      "{'description': {'use_cluster': False, 'parameter_groups': {'none': {'casename': 'gcp-cases'}}, 'kernel_name': 'diag-sandbox'}, 'ssh': {'use_cluster': True, 'subset': {'frequency': 'month_1', 'component': 'ocn', 'variable': 'SSH'}, 'parameter_groups': {'none': {'casename': 'gcp-cases'}}, 'kernel_name': 'diag-sandbox'}}\n",
      "--\n",
      "{'moc-view': {'use_cluster': True, 'kernel_name': 'diag-sandbox-moc-pop-tools', 'dependency': 'POP_MOC_extract_cat', 'parameter_groups': {'26n': {'casename': 'gcp-cases', 'title_param': '26n'}}}}\n"
     ]
    }
   ],
   "source": [
    "print(precompute_nbs)\n",
    "print(\"--\")\n",
    "print(regular_nbs)\n",
    "print(\"--\")\n",
    "print(dependent_nbs)"
   ]
  },
  {
   "cell_type": "markdown",
   "id": "99cb3420-e6b2-4b24-83a9-77dd028d9611",
   "metadata": {},
   "source": [
    "## Calculating precompute notebooks"
   ]
  },
  {
   "cell_type": "code",
   "execution_count": 10,
   "id": "c733fc97-2e58-4d9e-a24c-9c87fe816b82",
   "metadata": {},
   "outputs": [
    {
     "name": "stdout",
     "output_type": "stream",
     "text": [
      "0843dd943931ceb494e6b043a9c199561a47b4a08c6bf49e4bb63b3f5e957d32\n",
      "Fetching result from cache\n"
     ]
    }
   ],
   "source": [
    "for nb, info in precompute_nbs.items():\n",
    "    \n",
    "    parameter_groups = info['parameter_groups']\n",
    "    use_cluster = info['use_cluster']\n",
    "    \n",
    "    ### passing in subset kwargs if they're provided\n",
    "    if 'subset' in info:\n",
    "        subset_kwargs = info['subset']\n",
    "    else:\n",
    "        subset_kwargs = {}\n",
    "    \n",
    "    default_params = {}\n",
    "    if 'default_params' in info:\n",
    "        default_params = info['default_params']\n",
    "        \n",
    "    for key, parms in parameter_groups.items():\n",
    "    \n",
    "\n",
    "        input_path = f'{nb}.ipynb'\n",
    "        output_path = (\n",
    "            f'{output_dir}/{nb}-{key}.ipynb'\n",
    "            if key != 'none' else f'{output_dir}/{nb}.ipynb'\n",
    "        )\n",
    "        \n",
    "        \n",
    "        result_df = cache_utils.gen_df_query(cache_metadata_path, input_path, \n",
    "                               full_cat_path, first_subset=first_subset_kwargs, \n",
    "                                             second_subset=subset_kwargs,\n",
    "                               params=parms)\n",
    "        \n",
    "        if not result_df.empty:\n",
    "            #if multiple matches exist, grabs an arbitrary one (FIX LATER)\n",
    "            asset_path = result_df.loc[0,'assets']\n",
    "            precompute_nbs[nb][\"asset_path\"] = asset_path\n",
    "            print(\"Fetching result from cache\")\n",
    "             \n",
    "        else:\n",
    "            \n",
    "            nb_api = pm.inspect_notebook(input_path)\n",
    "        \n",
    "            # TODO: validate paramter and API\n",
    "\n",
    "            asset_path = cache_utils.make_filename(cache_data_path, input_path, full_cat_path) + \".nc\"\n",
    "                                                   \n",
    "            if nb_api:\n",
    "                parms_in = dict(**default_params)\n",
    "                parms_in.update(dict(**parms))\n",
    "                parms_in['path_to_cat'] = cat_path\n",
    "                parms_in['cluster_scheduler_address'] = cluster.scheduler_address\n",
    "                parms_in['subset_kwargs'] = subset_kwargs\n",
    "                parms_in['asset_path'] = asset_path\n",
    "            else:\n",
    "                parms_in = {}\n",
    "\n",
    "            print(f'executing {input_path}')\n",
    "            o = pm.execute_notebook(\n",
    "                input_path=input_path,\n",
    "                output_path=output_path,\n",
    "                kernel_name=info['kernel_name'],\n",
    "                parameters=parms_in,\n",
    "                engine_name='md_jinja',\n",
    "                jinja_data=parms,\n",
    "            )\n",
    "\n",
    "\n",
    "\n",
    "            cache_utils.make_sidecar_entry(cache_metadata_path, \n",
    "                                           input_path, \n",
    "                                           full_cat_path, \n",
    "                                           asset_path=asset_path, \n",
    "                                           first_subset=first_subset_kwargs, \n",
    "                                           second_subset= subset_kwargs,\n",
    "                                           params=parms)\n",
    "\n",
    "            ### this can only properly handle one save per notebook (FIX LATER)\n",
    "            precompute_nbs[nb][\"asset_path\"] = asset_path"
   ]
  },
  {
   "cell_type": "markdown",
   "id": "f4b68c3b-fd21-4689-8b15-40b03a6e2675",
   "metadata": {},
   "source": [
    "## Calculating regular notebooks"
   ]
  },
  {
   "cell_type": "code",
   "execution_count": 11,
   "id": "58d70fc0-9429-434e-a6a8-31c67e429a9e",
   "metadata": {},
   "outputs": [
    {
     "name": "stderr",
     "output_type": "stream",
     "text": [
      "/glade/work/eromashkova/miniconda3/envs/diag-sandbox/lib/python3.9/site-packages/tqdm/auto.py:22: TqdmWarning: IProgress not found. Please update jupyter and ipywidgets. See https://ipywidgets.readthedocs.io/en/stable/user_install.html\n",
      "  from .autonotebook import tqdm as notebook_tqdm\n"
     ]
    },
    {
     "name": "stdout",
     "output_type": "stream",
     "text": [
      "executing description.ipynb\n"
     ]
    },
    {
     "name": "stderr",
     "output_type": "stream",
     "text": [
      "Executing: 100%|██████████| 2/2 [00:01<00:00,  1.54cell/s]\n"
     ]
    },
    {
     "name": "stdout",
     "output_type": "stream",
     "text": [
      "executing ssh.ipynb\n"
     ]
    },
    {
     "name": "stderr",
     "output_type": "stream",
     "text": [
      "Executing: 100%|██████████| 11/11 [00:13<00:00,  1.19s/cell]\n"
     ]
    }
   ],
   "source": [
    "for nb, info in regular_nbs.items():\n",
    "    \n",
    "    parameter_groups = info['parameter_groups']\n",
    "    use_cluster = info['use_cluster']\n",
    "    \n",
    "    ### passing in subset kwargs if they're provided\n",
    "    if 'subset' in info:\n",
    "        subset_kwargs = info['subset']\n",
    "    else:\n",
    "        subset_kwargs = {}\n",
    "    \n",
    "    default_params = {}\n",
    "    if 'default_params' in info:\n",
    "        default_params = info['default_params']\n",
    "\n",
    "    for key, parms in parameter_groups.items():\n",
    "\n",
    "        input_path = f'{nb}.ipynb'\n",
    "        output_path = (\n",
    "            f'{output_dir}/{nb}-{key}.ipynb'\n",
    "            if key != 'none' else f'{output_dir}/{nb}.ipynb'\n",
    "        )\n",
    "\n",
    "        # check notebook expectations\n",
    "        nb_api = pm.inspect_notebook(input_path)\n",
    "        \n",
    "        # TODO: validate paramter and API\n",
    "\n",
    "        if nb_api:\n",
    "            parms_in = dict(**default_params)\n",
    "            parms_in.update(dict(**parms))\n",
    "            parms_in['path_to_cat'] = cat_path\n",
    "            parms_in['cluster_scheduler_address'] = cluster.scheduler_address\n",
    "            parms_in['subset_kwargs'] = subset_kwargs\n",
    "        else:\n",
    "            parms_in = {}\n",
    "\n",
    "        print(f'executing {input_path}')\n",
    "        o = pm.execute_notebook(\n",
    "            input_path=input_path,\n",
    "            output_path=output_path,\n",
    "            kernel_name=info['kernel_name'],\n",
    "            parameters=parms_in,\n",
    "            engine_name='md_jinja',\n",
    "            jinja_data=parms,\n",
    "        )"
   ]
  },
  {
   "cell_type": "markdown",
   "id": "5118720c-c092-4adb-806d-70076fa89d08",
   "metadata": {},
   "source": [
    "## Calculating notebooks with dependencies"
   ]
  },
  {
   "cell_type": "code",
   "execution_count": 12,
   "id": "ff9ab9f1-68f1-4f7f-9f2e-b3684260b9d2",
   "metadata": {},
   "outputs": [
    {
     "name": "stdout",
     "output_type": "stream",
     "text": [
      "executing moc-view.ipynb\n"
     ]
    },
    {
     "name": "stderr",
     "output_type": "stream",
     "text": [
      "Executing: 100%|██████████| 10/10 [00:04<00:00,  2.45cell/s]\n"
     ]
    }
   ],
   "source": [
    "for nb, info in dependent_nbs.items():\n",
    "    \n",
    "    ### getting necessary asset:\n",
    "    called_nb = info['dependency']\n",
    "    dependent_asset_path = precompute_nbs[called_nb][\"asset_path\"]\n",
    "    \n",
    "    \n",
    "    parameter_groups = info['parameter_groups']\n",
    "    use_cluster = info['use_cluster']\n",
    "    \n",
    "    ### passing in subset kwargs if they're provided\n",
    "    if 'subset' in info:\n",
    "        subset_kwargs = info['subset']\n",
    "    else:\n",
    "        subset_kwargs = {}\n",
    "    \n",
    "    default_params = {}\n",
    "    if 'default_params' in info:\n",
    "        default_params = info['default_params']\n",
    "\n",
    "    for key, parms in parameter_groups.items():\n",
    "\n",
    "        input_path = f'{nb}.ipynb'\n",
    "        output_path = (\n",
    "            f'{output_dir}/{nb}-{key}.ipynb'\n",
    "            if key != 'none' else f'{output_dir}/{nb}.ipynb'\n",
    "        )\n",
    "\n",
    "        # check notebook expectations\n",
    "        nb_api = pm.inspect_notebook(input_path)\n",
    "        \n",
    "        # TODO: validate paramter and API\n",
    "\n",
    "        if nb_api:\n",
    "            parms_in = dict(**default_params)\n",
    "            parms_in.update(dict(**parms))\n",
    "            parms_in['path_to_cat'] = cat_path\n",
    "            parms_in['cluster_scheduler_address'] = cluster.scheduler_address\n",
    "            parms_in['subset_kwargs'] = subset_kwargs\n",
    "            parms_in['asset_path'] = dependent_asset_path\n",
    "        else:\n",
    "            parms_in = {}\n",
    "\n",
    "        print(f'executing {input_path}')\n",
    "        o = pm.execute_notebook(\n",
    "            input_path=input_path,\n",
    "            output_path=output_path,\n",
    "            kernel_name=info['kernel_name'],\n",
    "            parameters=parms_in,\n",
    "            engine_name='md_jinja',\n",
    "            jinja_data=parms,\n",
    "        )\n",
    "    \n",
    "    "
   ]
  },
  {
   "cell_type": "code",
   "execution_count": 13,
   "id": "fc7536f7-d86a-4f6b-996c-78a8ffb86eb9",
   "metadata": {},
   "outputs": [
    {
     "name": "stderr",
     "output_type": "stream",
     "text": [
      "/glade/work/eromashkova/miniconda3/envs/diag-sandbox/lib/python3.9/site-packages/dask_jobqueue/pbs.py:82: FutureWarning: project has been renamed to account as this kwarg was used wit -A option. You are still using it (please also check config files). If you did not set account yet, project will be respected for now, but it will be removed in a future release. If you already set account, project is ignored and you can remove it.\n",
      "  warnings.warn(warn, FutureWarning)\n"
     ]
    }
   ],
   "source": [
    "cluster.close()"
   ]
  },
  {
   "cell_type": "code",
   "execution_count": null,
   "id": "09f3c252-0401-461c-aa77-a410ad604f2a",
   "metadata": {},
   "outputs": [],
   "source": []
  }
 ],
 "metadata": {
  "kernelspec": {
   "display_name": "Python [conda env:miniconda3-diag-sandbox]",
   "language": "python",
   "name": "conda-env-miniconda3-diag-sandbox-py"
  },
  "language_info": {
   "codemirror_mode": {
    "name": "ipython",
    "version": 3
   },
   "file_extension": ".py",
   "mimetype": "text/x-python",
   "name": "python",
   "nbconvert_exporter": "python",
   "pygments_lexer": "ipython3",
   "version": "3.9.13"
  }
 },
 "nbformat": 4,
 "nbformat_minor": 5
}
